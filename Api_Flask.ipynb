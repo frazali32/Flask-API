{
 "cells": [
  {
   "cell_type": "markdown",
   "metadata": {},
   "source": [
    "<h1 align=center><font size = 5>API for Machine Learning</font></h1>\n",
    "<h1 align=center><font size = 3>Predicting chances of admission for Masters</font></h1>"
   ]
  },
  {
   "cell_type": "markdown",
   "metadata": {},
   "source": [
    "We have our machine learning model now. We now build an API for our machine learning model. Essentially, __APIs__ are very much like web applications, but instead of giving you a nicely styled HTML page, APIs tend to return data in a standard data-exchange format such as __JSON__, __XML__, etc.\n",
    "\n",
    "We will use __Flask__ for our API. Flask is a web service development framework in Python."
   ]
  },
  {
   "cell_type": "markdown",
   "metadata": {},
   "source": [
    "### Importing Packages"
   ]
  },
  {
   "cell_type": "code",
   "execution_count": 1,
   "metadata": {},
   "outputs": [],
   "source": [
    "from flask import Flask, jsonify, request\n",
    "import requests\n",
    "import joblib\n",
    "import numpy as np\n",
    "import pandas as pd\n",
    "import matplotlib.pyplot as plt\n",
    "import seaborn as sns\n",
    "from sklearn.model_selection import train_test_split\n",
    "from sklearn.linear_model import LinearRegression\n",
    "from sklearn.model_selection import cross_val_score"
   ]
  },
  {
   "cell_type": "markdown",
   "metadata": {},
   "source": [
    "### Construction of API"
   ]
  },
  {
   "cell_type": "code",
   "execution_count": null,
   "metadata": {},
   "outputs": [
    {
     "name": "stdout",
     "output_type": "stream",
     "text": [
      "Model loaded\n",
      "Model columns loaded\n",
      " * Serving Flask app \"__main__\" (lazy loading)\n",
      " * Environment: production\n",
      "   WARNING: This is a development server. Do not use it in a production deployment.\n",
      "   Use a production WSGI server instead.\n",
      " * Debug mode: off\n"
     ]
    },
    {
     "name": "stderr",
     "output_type": "stream",
     "text": [
      " * Running on http://127.0.0.1:5000/ (Press CTRL+C to quit)\n"
     ]
    }
   ],
   "source": [
    "app = Flask(__name__)\n",
    "\n",
    "@app.route(\"/\")\n",
    "def nothello():\n",
    "    return \"Welcome to machine learning model APIs!\"\n",
    "\n",
    "@app.route(\"/index\")\n",
    "def hello():\n",
    "    return 'My First API' \n",
    "\n",
    "#Main Predict Function.\n",
    "@app.route(\"/predict\", methods=['POST'])\n",
    "def predict():\n",
    "    #json_ = request.json\n",
    "    json_ = request.get_json(force=True)#For accepting requests.\n",
    "    #query_df = pd.read_csv('Admission_Predict_Ver1.1.csv')\n",
    "    query_df = pd.DataFrame(json_)\n",
    "    #query_df.drop(['Serial No.','Chance of Admit '],axis=1,inplace=True)\n",
    "    #query_df = pd.DataFrame({'GRE Score':[339],'TOEFL Score':[107],'University Rating':[2.7],'SOP':[3.37],\\\n",
    "                       #   'LOR':[3.48],'CGPA':[8.58],'Research':[0.56]})\n",
    "    query_df = query_df.reindex(columns=model_columns, fill_value=0)#Taking care of missing values\n",
    "    \n",
    "    #Adding range to Parameters.\n",
    "    for name in query_df:\n",
    "        if name == 'GRE Score':\n",
    "            for value in query_df[name]:\n",
    "                if 0>value or value>340:\n",
    "                    return 'GRE Score out of range!'\n",
    "        elif name == 'TOEFL Score':\n",
    "            for value in query_df[name]:\n",
    "                if 0>value or value>120:\n",
    "                    return 'Toefl score out of range!'\n",
    "        elif name == 'University Rating':\n",
    "            for value in query_df[name]:\n",
    "                if 1>value or value>5:\n",
    "                    return 'University Rating out of range!'\n",
    "        elif name == 'SOP':\n",
    "            for value in query_df[name]:\n",
    "                if 1>value or value>5:\n",
    "                    return 'SOP out of range!'\n",
    "        elif name == 'LOR':\n",
    "            for value in query_df[name]:\n",
    "                if 1>value or value>5:\n",
    "                    return 'LOR Strength out of range!'\n",
    "        elif name == 'CGPA':\n",
    "            for value in query_df[name]:\n",
    "                if 0>value or value>10:\n",
    "                    return 'CGPA out of range!'\n",
    "        elif name == 'Research':\n",
    "            for value in query_df[name]:\n",
    "                if value not in (0,1):\n",
    "                    return 'Research is a categorical variable!'\n",
    "        \n",
    "    \n",
    "    #Final Result.\n",
    "    prediction = model.predict(query_df)\n",
    "    return jsonify({'prediction': list(prediction),'scores':query_df.to_dict()})\n",
    "\n",
    "\n",
    "#Running our Framework.\n",
    "if __name__ == '__main__':\n",
    "    model = joblib.load(\"model.pkl\") # Load \"model.pkl\"\n",
    "    print ('Model loaded')\n",
    "    model_columns = joblib.load(\"model_columns.pkl\") # Load \"model_columns.pkl\"\n",
    "    print ('Model columns loaded')\n",
    "    app.run(debug=False)"
   ]
  },
  {
   "cell_type": "code",
   "execution_count": null,
   "metadata": {},
   "outputs": [],
   "source": []
  }
 ],
 "metadata": {
  "kernelspec": {
   "display_name": "Python 3",
   "language": "python",
   "name": "python3"
  },
  "language_info": {
   "codemirror_mode": {
    "name": "ipython",
    "version": 3
   },
   "file_extension": ".py",
   "mimetype": "text/x-python",
   "name": "python",
   "nbconvert_exporter": "python",
   "pygments_lexer": "ipython3",
   "version": "3.7.4"
  }
 },
 "nbformat": 4,
 "nbformat_minor": 2
}
