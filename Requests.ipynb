{
 "cells": [
  {
   "cell_type": "markdown",
   "metadata": {},
   "source": [
    "<h1 align=center><font size = 5>API for Machine Learning</font></h1>\n",
    "<h1 align=center><font size = 3>Request Documentation for End user</font></h1>"
   ]
  },
  {
   "cell_type": "markdown",
   "metadata": {},
   "source": [
    "We have built our API and are now ready to make a program which we can use to test our API. Given below are the ranges of our parameters. Any input of a variable outside its range results in an error:\n",
    "\n",
    "<p><b>Ranges:<b></p>\n",
    "<ul>\n",
    "    <li> GRE Scores (0 to 340)</li>\n",
    "    <li> TOEFL Scores (0 to 120)</li>\n",
    "    <li> Under Grad University Rating (1 to 5)</li>\n",
    "    <li> Statement of Purpose (1 to 5)</li>\n",
    "    <li> Letter of Recommendation Strength (out of 5)</li>\n",
    "    <li> Undergraduate GPA (0 to 10)</li>\n",
    "    <li> Research Experience (either 0 or 1)</li>\n",
    "</ul>"
   ]
  },
  {
   "cell_type": "code",
   "execution_count": 3,
   "metadata": {
    "scrolled": false
   },
   "outputs": [
    {
     "name": "stdout",
     "output_type": "stream",
     "text": [
      "{\"prediction\":[0.753559351293628],\"scores\":{\"CGPA\":{\"0\":8.58},\"GRE Score\":{\"0\":339},\"LOR\":{\"0\":3.48},\"Research\":{\"0\":0},\"SOP\":{\"0\":3.37},\"TOEFL Score\":{\"0\":107},\"University Rating\":{\"0\":3}}}\n",
      "\n"
     ]
    }
   ],
   "source": [
    "import requests\n",
    "import json\n",
    "\n",
    "#URL to post a request to.\n",
    "url = 'http://127.0.0.1:5000/predict'\n",
    "\n",
    "#Parameters.\n",
    "variables={'CGPA':[8.58],'GRE Score':[339],'LOR':[3.48],'Research':[0],'SOP':[3.37],'TOEFL Score':[107],\\\n",
    "           'University Rating':[3]}\n",
    "r = requests.post(url,json=variables)\n",
    "\n",
    "#Displaying value.\n",
    "print(r.text)"
   ]
  }
 ],
 "metadata": {
  "kernelspec": {
   "display_name": "Python 3",
   "language": "python",
   "name": "python3"
  },
  "language_info": {
   "codemirror_mode": {
    "name": "ipython",
    "version": 3
   },
   "file_extension": ".py",
   "mimetype": "text/x-python",
   "name": "python",
   "nbconvert_exporter": "python",
   "pygments_lexer": "ipython3",
   "version": "3.7.4"
  }
 },
 "nbformat": 4,
 "nbformat_minor": 2
}
